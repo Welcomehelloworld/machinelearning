{
 "cells": [
  {
   "cell_type": "code",
   "execution_count": 1,
   "id": "cc93ecea",
   "metadata": {},
   "outputs": [],
   "source": [
    "import numpy as np\n",
    "from collections import Counter"
   ]
  },
  {
   "cell_type": "code",
   "execution_count": 2,
   "id": "3857d1af",
   "metadata": {},
   "outputs": [],
   "source": [
    "class KNN:\n",
    "    def __init__(self, k=3):\n",
    "        self.k = k\n",
    "\n",
    "    def fit(self, X, y):\n",
    "        self.X_train = X\n",
    "        self.y_train = y\n",
    "\n",
    "    def predict(self, X):\n",
    "        predictions = [self._predict(x) for x in X]\n",
    "        return np.array(predictions)\n",
    "\n",
    "    def _predict(self, x):\n",
    "        # Calculate distances between x and all examples in the training set\n",
    "        distances = [np.linalg.norm(x - x_train) for x_train in self.X_train]\n",
    "        \n",
    "        # Get indices of k-nearest training data points\n",
    "        k_neighbors_indices = np.argsort(distances)[:self.k]\n",
    "        \n",
    "        # Get the labels of the k-nearest training data points\n",
    "        k_neighbor_labels = [self.y_train[i] for i in k_neighbors_indices]\n",
    "        \n",
    "        # Return the most common class label among the k neighbors\n",
    "        most_common = Counter(k_neighbor_labels).most_common(1)\n",
    "        return most_common[0][0]"
   ]
  },
  {
   "cell_type": "code",
   "execution_count": 3,
   "id": "aaaa820d",
   "metadata": {},
   "outputs": [],
   "source": [
    "# Example usage:\n",
    "# Generate some random data for demonstration\n",
    "np.random.seed(42)\n",
    "X_train = np.random.rand(10, 2)\n",
    "y_train = (X_train[:, 0] + X_train[:, 1] > 1).astype(int)\n",
    "\n",
    "X_test = np.random.rand(5, 2)"
   ]
  },
  {
   "cell_type": "code",
   "execution_count": 4,
   "id": "0d5a97ca",
   "metadata": {},
   "outputs": [
    {
     "name": "stdout",
     "output_type": "stream",
     "text": [
      "X_test:\n",
      "[[0.61185289 0.13949386]\n",
      " [0.29214465 0.36636184]\n",
      " [0.45606998 0.78517596]\n",
      " [0.19967378 0.51423444]\n",
      " [0.59241457 0.04645041]]\n",
      "Predictions:\n",
      "[0 0 1 0 0]\n"
     ]
    }
   ],
   "source": [
    "# Create and train the KNN classifier\n",
    "knn = KNN(k=3)\n",
    "knn.fit(X_train, y_train)\n",
    "\n",
    "# Make predictions\n",
    "predictions = knn.predict(X_test)\n",
    "\n",
    "# Display the results\n",
    "print(\"X_test:\")\n",
    "print(X_test)\n",
    "print(\"Predictions:\")\n",
    "print(predictions)"
   ]
  },
  {
   "cell_type": "code",
   "execution_count": null,
   "id": "90dcca54",
   "metadata": {},
   "outputs": [],
   "source": []
  }
 ],
 "metadata": {
  "kernelspec": {
   "display_name": "Python 3 (ipykernel)",
   "language": "python",
   "name": "python3"
  },
  "language_info": {
   "codemirror_mode": {
    "name": "ipython",
    "version": 3
   },
   "file_extension": ".py",
   "mimetype": "text/x-python",
   "name": "python",
   "nbconvert_exporter": "python",
   "pygments_lexer": "ipython3",
   "version": "3.11.4"
  }
 },
 "nbformat": 4,
 "nbformat_minor": 5
}
